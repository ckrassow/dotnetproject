{
 "cells": [
  {
   "cell_type": "code",
   "execution_count": 1,
   "metadata": {},
   "outputs": [],
   "source": [
    "import pandas as pd\n",
    "import ssl\n",
    "\n",
    "ssl._create_default_https_context = ssl._create_unverified_context"
   ]
  },
  {
   "cell_type": "code",
   "execution_count": 2,
   "metadata": {},
   "outputs": [],
   "source": [
    "import os\n",
    "DATA_DIR = os.getcwd() + \"/data\""
   ]
  },
  {
   "cell_type": "code",
   "execution_count": 3,
   "metadata": {},
   "outputs": [],
   "source": [
    "tables = pd.read_html(\"https://en.wikipedia.org/wiki/UEFA_Euro_2024\")"
   ]
  },
  {
   "cell_type": "code",
   "execution_count": 3,
   "metadata": {},
   "outputs": [
    {
     "data": {
      "text/plain": [
       "73"
      ]
     },
     "execution_count": 3,
     "metadata": {},
     "output_type": "execute_result"
    }
   ],
   "source": [
    "len(tables)"
   ]
  },
  {
   "cell_type": "code",
   "execution_count": 4,
   "metadata": {},
   "outputs": [],
   "source": [
    "qf_teams_df = tables[4]\n"
   ]
  },
  {
   "cell_type": "code",
   "execution_count": 5,
   "metadata": {},
   "outputs": [
    {
     "name": "stdout",
     "output_type": "stream",
     "text": [
      "Germany[B]\n",
      "Belgium\n",
      "France\n",
      "Portugal\n",
      "Scotland\n",
      "Spain\n",
      "Turkey\n",
      "Austria\n",
      "England\n",
      "Hungary\n",
      "Slovakia[C]\n",
      "Albania\n",
      "Denmark\n",
      "Netherlands\n",
      "Romania\n",
      "Switzerland\n",
      "Serbia[D]\n",
      "Czech Republic[C]\n",
      "Italy\n",
      "Slovenia\n",
      "Croatia\n",
      "Georgia\n",
      "Ukraine\n",
      "Poland\n"
     ]
    }
   ],
   "source": [
    "team_tables = {}\n",
    "general_team_url = \"https://en.wikipedia.org/wiki/toreplace_national_football_team\"\n",
    "for team in qf_teams_df[\"Team\"]:\n",
    "    print(team)\n",
    "    sep = \"[\"\n",
    "    if sep in team:\n",
    "        team = team.split(sep, 1)[0]\n",
    "    team = team.replace(\" \", \"_\")\n",
    "    team_url = general_team_url.replace(\"toreplace\", team)\n",
    "    team_tables[team] = team_url"
   ]
  },
  {
   "cell_type": "code",
   "execution_count": 70,
   "metadata": {},
   "outputs": [],
   "source": [
    "germany_info = pd.read_html(team_tables[\"Germany\"], match=\"Player\")"
   ]
  },
  {
   "cell_type": "code",
   "execution_count": 73,
   "metadata": {},
   "outputs": [],
   "source": [
    "germany_df = germany_info[0]\n"
   ]
  },
  {
   "cell_type": "code",
   "execution_count": 66,
   "metadata": {},
   "outputs": [],
   "source": [
    "belgium_info = pd.read_html(team_tables[\"Belgium\"], match=\"Player\")"
   ]
  },
  {
   "cell_type": "code",
   "execution_count": 89,
   "metadata": {},
   "outputs": [
    {
     "data": {
      "text/html": [
       "<div>\n",
       "<style scoped>\n",
       "    .dataframe tbody tr th:only-of-type {\n",
       "        vertical-align: middle;\n",
       "    }\n",
       "\n",
       "    .dataframe tbody tr th {\n",
       "        vertical-align: top;\n",
       "    }\n",
       "\n",
       "    .dataframe thead th {\n",
       "        text-align: right;\n",
       "    }\n",
       "</style>\n",
       "<table border=\"1\" class=\"dataframe\">\n",
       "  <thead>\n",
       "    <tr style=\"text-align: right;\">\n",
       "      <th></th>\n",
       "      <th>No.</th>\n",
       "      <th>Pos.</th>\n",
       "      <th>Player</th>\n",
       "      <th>Date of birth (age)</th>\n",
       "      <th>Caps</th>\n",
       "      <th>Goals</th>\n",
       "      <th>Club</th>\n",
       "    </tr>\n",
       "  </thead>\n",
       "  <tbody>\n",
       "    <tr>\n",
       "      <th>0</th>\n",
       "      <td>12.0</td>\n",
       "      <td>GK</td>\n",
       "      <td>Koen Casteels</td>\n",
       "      <td>(age 31)</td>\n",
       "      <td>8.0</td>\n",
       "      <td>0.0</td>\n",
       "      <td>VfL Wolfsburg</td>\n",
       "    </tr>\n",
       "    <tr>\n",
       "      <th>1</th>\n",
       "      <td>13.0</td>\n",
       "      <td>GK</td>\n",
       "      <td>Matz Sels</td>\n",
       "      <td>(age 32)</td>\n",
       "      <td>6.0</td>\n",
       "      <td>0.0</td>\n",
       "      <td>Nottingham Forest</td>\n",
       "    </tr>\n",
       "    <tr>\n",
       "      <th>2</th>\n",
       "      <td>1.0</td>\n",
       "      <td>GK</td>\n",
       "      <td>Arnaud Bodart</td>\n",
       "      <td>(age 26)</td>\n",
       "      <td>0.0</td>\n",
       "      <td>0.0</td>\n",
       "      <td>Standard Liège</td>\n",
       "    </tr>\n",
       "    <tr>\n",
       "      <th>3</th>\n",
       "      <td>24.0</td>\n",
       "      <td>GK</td>\n",
       "      <td>Thomas Kaminski</td>\n",
       "      <td>(age 31)</td>\n",
       "      <td>0.0</td>\n",
       "      <td>0.0</td>\n",
       "      <td>Luton Town</td>\n",
       "    </tr>\n",
       "    <tr>\n",
       "      <th>4</th>\n",
       "      <td>NaN</td>\n",
       "      <td>NaN</td>\n",
       "      <td>NaN</td>\n",
       "      <td>NaN</td>\n",
       "      <td>NaN</td>\n",
       "      <td>NaN</td>\n",
       "      <td>NaN</td>\n",
       "    </tr>\n",
       "  </tbody>\n",
       "</table>\n",
       "</div>"
      ],
      "text/plain": [
       "    No. Pos.           Player Date of birth (age)  Caps  Goals  \\\n",
       "0  12.0   GK    Koen Casteels            (age 31)   8.0    0.0   \n",
       "1  13.0   GK        Matz Sels            (age 32)   6.0    0.0   \n",
       "2   1.0   GK    Arnaud Bodart            (age 26)   0.0    0.0   \n",
       "3  24.0   GK  Thomas Kaminski            (age 31)   0.0    0.0   \n",
       "4   NaN  NaN              NaN                 NaN   NaN    NaN   \n",
       "\n",
       "                Club  \n",
       "0      VfL Wolfsburg  \n",
       "1  Nottingham Forest  \n",
       "2     Standard Liège  \n",
       "3         Luton Town  \n",
       "4                NaN  "
      ]
     },
     "execution_count": 89,
     "metadata": {},
     "output_type": "execute_result"
    }
   ],
   "source": [
    "belgium_df = belgium_info[0]\n",
    "belgium_df.head()\n"
   ]
  },
  {
   "cell_type": "code",
   "execution_count": 11,
   "metadata": {},
   "outputs": [],
   "source": [
    "player_dfs = []\n",
    "\n",
    "for team, url in team_tables.items():\n",
    "    team_squad_info = pd.read_html(url, match=\"Player\")\n",
    "    tmp_df = team_squad_info[0]\n",
    "    tmp_df[\"Goals\"] = tmp_df[\"Goals\"]\n",
    "    tmp_df[\"Caps\"] = tmp_df[\"Caps\"]\n",
    "    if \"_\" in team:\n",
    "        team = team.replace(\"_\", \" \")\n",
    "    tmp_df[\"Team\"] = team\n",
    "    player_dfs.append(tmp_df)\n"
   ]
  },
  {
   "cell_type": "code",
   "execution_count": 14,
   "metadata": {},
   "outputs": [
    {
     "data": {
      "text/html": [
       "<div>\n",
       "<style scoped>\n",
       "    .dataframe tbody tr th:only-of-type {\n",
       "        vertical-align: middle;\n",
       "    }\n",
       "\n",
       "    .dataframe tbody tr th {\n",
       "        vertical-align: top;\n",
       "    }\n",
       "\n",
       "    .dataframe thead th {\n",
       "        text-align: right;\n",
       "    }\n",
       "</style>\n",
       "<table border=\"1\" class=\"dataframe\">\n",
       "  <thead>\n",
       "    <tr style=\"text-align: right;\">\n",
       "      <th></th>\n",
       "      <th>No.</th>\n",
       "      <th>Pos.</th>\n",
       "      <th>Player</th>\n",
       "      <th>Date of birth (age)</th>\n",
       "      <th>Caps</th>\n",
       "      <th>Goals</th>\n",
       "      <th>Club</th>\n",
       "      <th>Team</th>\n",
       "    </tr>\n",
       "  </thead>\n",
       "  <tbody>\n",
       "    <tr>\n",
       "      <th>0</th>\n",
       "      <td>12.0</td>\n",
       "      <td>GK</td>\n",
       "      <td>Bernd Leno</td>\n",
       "      <td>(age 32)</td>\n",
       "      <td>9.0</td>\n",
       "      <td>0.0</td>\n",
       "      <td>Fulham</td>\n",
       "      <td>Germany</td>\n",
       "    </tr>\n",
       "    <tr>\n",
       "      <th>1</th>\n",
       "      <td>22.0</td>\n",
       "      <td>GK</td>\n",
       "      <td>Marc-André ter Stegen</td>\n",
       "      <td>(age 31)</td>\n",
       "      <td>40.0</td>\n",
       "      <td>0.0</td>\n",
       "      <td>Barcelona</td>\n",
       "      <td>Germany</td>\n",
       "    </tr>\n",
       "    <tr>\n",
       "      <th>2</th>\n",
       "      <td>24.0</td>\n",
       "      <td>GK</td>\n",
       "      <td>Oliver Baumann</td>\n",
       "      <td>(age 33)</td>\n",
       "      <td>0.0</td>\n",
       "      <td>0.0</td>\n",
       "      <td>TSG Hoffenheim</td>\n",
       "      <td>Germany</td>\n",
       "    </tr>\n",
       "    <tr>\n",
       "      <th>3</th>\n",
       "      <td>NaN</td>\n",
       "      <td>NaN</td>\n",
       "      <td>NaN</td>\n",
       "      <td>NaN</td>\n",
       "      <td>NaN</td>\n",
       "      <td>NaN</td>\n",
       "      <td>NaN</td>\n",
       "      <td>Germany</td>\n",
       "    </tr>\n",
       "    <tr>\n",
       "      <th>4</th>\n",
       "      <td>2.0</td>\n",
       "      <td>DF</td>\n",
       "      <td>Antonio Rüdiger</td>\n",
       "      <td>(age 31)</td>\n",
       "      <td>68.0</td>\n",
       "      <td>3.0</td>\n",
       "      <td>Real Madrid</td>\n",
       "      <td>Germany</td>\n",
       "    </tr>\n",
       "  </tbody>\n",
       "</table>\n",
       "</div>"
      ],
      "text/plain": [
       "    No. Pos.                 Player Date of birth (age)  Caps  Goals  \\\n",
       "0  12.0   GK             Bernd Leno            (age 32)   9.0    0.0   \n",
       "1  22.0   GK  Marc-André ter Stegen            (age 31)  40.0    0.0   \n",
       "2  24.0   GK         Oliver Baumann            (age 33)   0.0    0.0   \n",
       "3   NaN  NaN                    NaN                 NaN   NaN    NaN   \n",
       "4   2.0   DF        Antonio Rüdiger            (age 31)  68.0    3.0   \n",
       "\n",
       "             Club     Team  \n",
       "0          Fulham  Germany  \n",
       "1       Barcelona  Germany  \n",
       "2  TSG Hoffenheim  Germany  \n",
       "3             NaN  Germany  \n",
       "4     Real Madrid  Germany  "
      ]
     },
     "execution_count": 14,
     "metadata": {},
     "output_type": "execute_result"
    }
   ],
   "source": [
    "merged_df = pd.concat(player_dfs, ignore_index=True)\n",
    "merged_df.head()"
   ]
  },
  {
   "cell_type": "code",
   "execution_count": 12,
   "metadata": {},
   "outputs": [],
   "source": [
    "import re\n",
    "\n",
    "def strip_non_numeric(word):\n",
    "    \n",
    "    word = re.sub('\\D', '', word)\n",
    "    return int(word)"
   ]
  },
  {
   "cell_type": "code",
   "execution_count": 15,
   "metadata": {},
   "outputs": [],
   "source": [
    "merged_df = merged_df.dropna(subset=[\"Player\"])\n",
    "merged_df[\"Goals\"] = merged_df[\"Goals\"].astype(int)\n",
    "merged_df[\"Caps\"] = merged_df[\"Caps\"].astype(int)\n",
    "merged_df[\"No.\"] = merged_df[\"No.\"].fillna(-1).astype(int)\n",
    "merged_df.rename(columns={\"Date of birth (age)\": \"Age\"}, inplace=True)\n",
    "merged_df[\"Age\"] = merged_df[\"Age\"].apply(strip_non_numeric)"
   ]
  },
  {
   "cell_type": "code",
   "execution_count": 16,
   "metadata": {},
   "outputs": [
    {
     "data": {
      "text/html": [
       "<div>\n",
       "<style scoped>\n",
       "    .dataframe tbody tr th:only-of-type {\n",
       "        vertical-align: middle;\n",
       "    }\n",
       "\n",
       "    .dataframe tbody tr th {\n",
       "        vertical-align: top;\n",
       "    }\n",
       "\n",
       "    .dataframe thead th {\n",
       "        text-align: right;\n",
       "    }\n",
       "</style>\n",
       "<table border=\"1\" class=\"dataframe\">\n",
       "  <thead>\n",
       "    <tr style=\"text-align: right;\">\n",
       "      <th></th>\n",
       "      <th>No.</th>\n",
       "      <th>Pos.</th>\n",
       "      <th>Player</th>\n",
       "      <th>Age</th>\n",
       "      <th>Caps</th>\n",
       "      <th>Goals</th>\n",
       "      <th>Club</th>\n",
       "      <th>Team</th>\n",
       "    </tr>\n",
       "  </thead>\n",
       "  <tbody>\n",
       "    <tr>\n",
       "      <th>0</th>\n",
       "      <td>12</td>\n",
       "      <td>GK</td>\n",
       "      <td>Bernd Leno</td>\n",
       "      <td>32</td>\n",
       "      <td>9</td>\n",
       "      <td>0</td>\n",
       "      <td>Fulham</td>\n",
       "      <td>Germany</td>\n",
       "    </tr>\n",
       "    <tr>\n",
       "      <th>1</th>\n",
       "      <td>22</td>\n",
       "      <td>GK</td>\n",
       "      <td>Marc-André ter Stegen</td>\n",
       "      <td>31</td>\n",
       "      <td>40</td>\n",
       "      <td>0</td>\n",
       "      <td>Barcelona</td>\n",
       "      <td>Germany</td>\n",
       "    </tr>\n",
       "    <tr>\n",
       "      <th>2</th>\n",
       "      <td>24</td>\n",
       "      <td>GK</td>\n",
       "      <td>Oliver Baumann</td>\n",
       "      <td>33</td>\n",
       "      <td>0</td>\n",
       "      <td>0</td>\n",
       "      <td>TSG Hoffenheim</td>\n",
       "      <td>Germany</td>\n",
       "    </tr>\n",
       "    <tr>\n",
       "      <th>4</th>\n",
       "      <td>2</td>\n",
       "      <td>DF</td>\n",
       "      <td>Antonio Rüdiger</td>\n",
       "      <td>31</td>\n",
       "      <td>68</td>\n",
       "      <td>3</td>\n",
       "      <td>Real Madrid</td>\n",
       "      <td>Germany</td>\n",
       "    </tr>\n",
       "    <tr>\n",
       "      <th>5</th>\n",
       "      <td>3</td>\n",
       "      <td>DF</td>\n",
       "      <td>David Raum</td>\n",
       "      <td>25</td>\n",
       "      <td>20</td>\n",
       "      <td>0</td>\n",
       "      <td>RB Leipzig</td>\n",
       "      <td>Germany</td>\n",
       "    </tr>\n",
       "  </tbody>\n",
       "</table>\n",
       "</div>"
      ],
      "text/plain": [
       "   No. Pos.                 Player  Age  Caps  Goals            Club     Team\n",
       "0   12   GK             Bernd Leno   32     9      0          Fulham  Germany\n",
       "1   22   GK  Marc-André ter Stegen   31    40      0       Barcelona  Germany\n",
       "2   24   GK         Oliver Baumann   33     0      0  TSG Hoffenheim  Germany\n",
       "4    2   DF        Antonio Rüdiger   31    68      3     Real Madrid  Germany\n",
       "5    3   DF             David Raum   25    20      0      RB Leipzig  Germany"
      ]
     },
     "execution_count": 16,
     "metadata": {},
     "output_type": "execute_result"
    }
   ],
   "source": [
    "merged_df.head()"
   ]
  },
  {
   "cell_type": "code",
   "execution_count": 17,
   "metadata": {},
   "outputs": [],
   "source": [
    "csv_filename = \"/euro_player_data.csv\"\n",
    "merged_df.to_csv(DATA_DIR + csv_filename, index=False)"
   ]
  },
  {
   "cell_type": "code",
   "execution_count": 18,
   "metadata": {},
   "outputs": [],
   "source": [
    "group_letters = [\"A\", \"B\", \"C\", \"D\", \"E\", \"F\"]\n",
    "general_group_url = \"https://en.wikipedia.org/wiki/UEFA_Euro_2024_Group_toreplace\"\n",
    "\n",
    "team_dfs = []\n",
    "\n",
    "for letter in group_letters:\n",
    "    group_url = general_group_url.replace(\"toreplace\", letter)\n",
    "    group_info = pd.read_html(group_url, match=\"Draw position\")\n",
    "    group_df = group_info[0]\n",
    "    tmp_df = pd.DataFrame()\n",
    "    tmp_df[\"Team\"] = group_df[\"Team\"]\n",
    "    try:\n",
    "        tmp_df[\"Playoff_appearences\"] = group_df[\"Finalsappearance\"]\n",
    "    except:\n",
    "        tmp_df[\"Playoff_appearences\"] = group_df[\"Finalsappearance[2]\"]\n",
    "    tmp_df[\"FIFA_rankings\"] = group_df[\"FIFA RankingsJune 2024\"]\n",
    "    tmp_df[\"Group\"] = letter\n",
    "    team_dfs.append(tmp_df)\n",
    "    #print(strip_non_numeric(group_df[\"Finalsappearance\"][0]))\n",
    "    "
   ]
  },
  {
   "cell_type": "code",
   "execution_count": 19,
   "metadata": {},
   "outputs": [],
   "source": [
    "teams_df = pd.concat(team_dfs, ignore_index=True)"
   ]
  },
  {
   "cell_type": "code",
   "execution_count": 20,
   "metadata": {},
   "outputs": [],
   "source": [
    "teams_df[\"Playoff_appearences\"] = teams_df[\"Playoff_appearences\"].fillna(\"0\")\n",
    "teams_df[\"Playoff_appearences\"] = teams_df[\"Playoff_appearences\"].apply(strip_non_numeric)\n",
    "teams_df[\"Team\"] = teams_df[\"Team\"].str.split(\"[\").str[0]\n",
    "teams_df.loc[teams_df[\"Team\"] == \"Slovakia\", \"Playoff_appearences\"] = 6\n"
   ]
  },
  {
   "cell_type": "code",
   "execution_count": 21,
   "metadata": {},
   "outputs": [],
   "source": [
    "csv_filename = \"/euro_team_data.csv\"\n",
    "teams_df.to_csv(DATA_DIR + csv_filename, index=False)"
   ]
  }
 ],
 "metadata": {
  "kernelspec": {
   "display_name": "base",
   "language": "python",
   "name": "python3"
  },
  "language_info": {
   "codemirror_mode": {
    "name": "ipython",
    "version": 3
   },
   "file_extension": ".py",
   "mimetype": "text/x-python",
   "name": "python",
   "nbconvert_exporter": "python",
   "pygments_lexer": "ipython3",
   "version": "3.8.5"
  }
 },
 "nbformat": 4,
 "nbformat_minor": 2
}
